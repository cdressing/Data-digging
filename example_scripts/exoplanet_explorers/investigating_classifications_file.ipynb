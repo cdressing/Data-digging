{
 "cells": [
  {
   "cell_type": "code",
   "execution_count": 1,
   "metadata": {
    "collapsed": true
   },
   "outputs": [],
   "source": [
    "#CDD\n",
    "#7 February 2018\n",
    "#Quick look at the giant classification file"
   ]
  },
  {
   "cell_type": "code",
   "execution_count": 26,
   "metadata": {
    "collapsed": true
   },
   "outputs": [],
   "source": [
    "import pandas as pd\n",
    "import numpy as np\n",
    "import matplotlib.pyplot as plt\n",
    "\n",
    "%matplotlib inline\n",
    "\n",
    "datadir = '~/Dropbox/exoplanet_explorers/data/'\n",
    "cfile = datadir+'exoplanet-explorers-classifications.csv' #full file\n",
    "#cfile = datadir+'mini-exoplanet-explorers-classifications.csv' #small version for testing\n"
   ]
  },
  {
   "cell_type": "code",
   "execution_count": 27,
   "metadata": {
    "collapsed": false
   },
   "outputs": [],
   "source": [
    "#read in the file\n",
    "c = pd.read_csv(cfile)"
   ]
  },
  {
   "cell_type": "code",
   "execution_count": 28,
   "metadata": {
    "collapsed": false
   },
   "outputs": [
    {
     "name": "stdout",
     "output_type": "stream",
     "text": [
      "number of classifications:  9100979\n",
      "columns:  ['classification_id' 'user_name' 'user_id' 'user_ip' 'workflow_id'\n",
      " 'workflow_name' 'workflow_version' 'created_at' 'gold_standard' 'expert'\n",
      " 'metadata' 'annotations' 'subject_data' 'subject_ids']\n",
      "number of possible workflows: 7\n",
      "workflows: [3262 3725 3778 3819 3821 3835 5800]\n"
     ]
    }
   ],
   "source": [
    "#print basic info\n",
    "print('number of classifications: ', len(c))\n",
    "print('columns: ', c.columns.values)\n",
    "print('number of possible workflows:', len(np.unique(c.workflow_id)))\n",
    "print('workflows:', np.unique(c.workflow_id))"
   ]
  },
  {
   "cell_type": "code",
   "execution_count": 29,
   "metadata": {
    "collapsed": false
   },
   "outputs": [
    {
     "name": "stdout",
     "output_type": "stream",
     "text": [
      "workflow 3262 :  11972\n",
      "workflow 3725 :  2927\n",
      "workflow 3778 :  1\n",
      "workflow 3819 :  9\n",
      "workflow 3821 :  8650347\n",
      "workflow 3835 :  12\n",
      "workflow 5800 :  435711\n"
     ]
    }
   ],
   "source": [
    "#Print number of classifications in each workflow\n",
    "wf = np.unique(c.workflow_id)\n",
    "for w in wf:\n",
    "    ww = np.where(c.workflow_id == w)\n",
    "    print('workflow', w, ': ', len(c.iloc[ww]))"
   ]
  },
  {
   "cell_type": "code",
   "execution_count": 30,
   "metadata": {
    "collapsed": false
   },
   "outputs": [
    {
     "name": "stdout",
     "output_type": "stream",
     "text": [
      "workflows: ['Exoplanet Explorers 1' 'Exoplanet Explorers 2'\n",
      " 'K2 C5 Vetting -- Quicktest' 'K2 Exoplanet Search' 'Planet9PNG'\n",
      " 'sim test' 'sims test']\n"
     ]
    }
   ],
   "source": [
    "print('workflows:', np.unique(c.workflow_name))"
   ]
  },
  {
   "cell_type": "code",
   "execution_count": 31,
   "metadata": {
    "collapsed": false
   },
   "outputs": [
    {
     "name": "stdout",
     "output_type": "stream",
     "text": [
      "workflow 3262 :  ['K2 C5 Vetting -- Quicktest']\n",
      "workflow 3725 :  ['K2 Exoplanet Search']\n",
      "workflow 3778 :  ['Planet9PNG']\n",
      "workflow 3819 :  ['sims test']\n",
      "workflow 3821 :  ['Exoplanet Explorers 1']\n",
      "workflow 3835 :  ['sim test']\n",
      "workflow 5800 :  ['Exoplanet Explorers 2']\n"
     ]
    }
   ],
   "source": [
    "#check which workflow is which\n",
    "for w in wf:\n",
    "    ww = np.where(c.workflow_id == w)\n",
    "    print('workflow', w, ': ', np.unique(c.iloc[ww].workflow_name))"
   ]
  },
  {
   "cell_type": "code",
   "execution_count": 35,
   "metadata": {
    "collapsed": false
   },
   "outputs": [
    {
     "name": "stdout",
     "output_type": "stream",
     "text": [
      "Versions:  [ 8.14  9.18 10.2  10.21 11.26 11.38]\n",
      "Version 8.14 :  10\n",
      "Version 9.18 :  2\n",
      "Version 10.2 :  2\n",
      "Version 10.21 :  12\n",
      "Version 11.26 :  1\n",
      "Version 11.38 :  11945\n"
     ]
    }
   ],
   "source": [
    "#Determine workflow versions for K2 C5 Vetting test\n",
    "ww = np.where(c.workflow_id == 3262)\n",
    "matches = c.iloc[ww]\n",
    "v = np.unique(matches.workflow_version)\n",
    "print('Versions: ', v)\n",
    "for vv in v:\n",
    "    wv = np.where(matches.workflow_version == vv)\n",
    "    print('Version', vv, ': ', len(matches.iloc[wv]))"
   ]
  },
  {
   "cell_type": "code",
   "execution_count": 37,
   "metadata": {
    "collapsed": false
   },
   "outputs": [
    {
     "name": "stdout",
     "output_type": "stream",
     "text": [
      "Versions:  [2.1  3.12 3.14 3.15 3.21 3.24 3.3 ]\n",
      "Version 2.1 :  25\n",
      "Version 3.12 :  196\n",
      "Version 3.14 :  10\n",
      "Version 3.15 :  678\n",
      "Version 3.21 :  6\n",
      "Version 3.24 :  45862\n",
      "Version 3.3 :  8603570\n"
     ]
    }
   ],
   "source": [
    "#Determine workflow versions for Exoplanet Explorers 1\n",
    "ww = np.where(c.workflow_id == 3821)\n",
    "matches = c.iloc[ww]\n",
    "v = np.unique(matches.workflow_version)\n",
    "print('Versions: ', v)\n",
    "for vv in v:\n",
    "    wv = np.where(matches.workflow_version == vv)\n",
    "    print('Version', vv, ': ', len(matches.iloc[wv]))"
   ]
  },
  {
   "cell_type": "code",
   "execution_count": 36,
   "metadata": {
    "collapsed": false
   },
   "outputs": [
    {
     "name": "stdout",
     "output_type": "stream",
     "text": [
      "Versions:  [1.1]\n",
      "Version 1.1 :  435711\n"
     ]
    }
   ],
   "source": [
    "#Determine workflow versions for Exoplanet Explorers 2\n",
    "ww = np.where(c.workflow_id == 5800)\n",
    "matches = c.iloc[ww]\n",
    "v = np.unique(matches.workflow_version)\n",
    "print('Versions: ', v)\n",
    "for vv in v:\n",
    "    wv = np.where(matches.workflow_version == vv)\n",
    "    print('Version', vv, ': ', len(matches.iloc[wv]))"
   ]
  },
  {
   "cell_type": "code",
   "execution_count": null,
   "metadata": {
    "collapsed": true
   },
   "outputs": [],
   "source": []
  }
 ],
 "metadata": {
  "kernelspec": {
   "display_name": "Python 3",
   "language": "python",
   "name": "python3"
  },
  "language_info": {
   "codemirror_mode": {
    "name": "ipython",
    "version": 3
   },
   "file_extension": ".py",
   "mimetype": "text/x-python",
   "name": "python",
   "nbconvert_exporter": "python",
   "pygments_lexer": "ipython3",
   "version": "3.4.4"
  }
 },
 "nbformat": 4,
 "nbformat_minor": 0
}
